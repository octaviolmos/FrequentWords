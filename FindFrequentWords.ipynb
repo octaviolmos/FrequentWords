{
 "cells": [
  {
   "cell_type": "markdown",
   "metadata": {},
   "source": [
    "## TOP 10 Frequent Words"
   ]
  },
  {
   "cell_type": "markdown",
   "metadata": {},
   "source": [
    "### Create functions to split words in a string"
   ]
  },
  {
   "cell_type": "code",
   "execution_count": 1,
   "metadata": {},
   "outputs": [],
   "source": [
    "\n",
    "def trimmer(x, split=True):\n",
    "    # remove the white space from each cell value\n",
    "  \n",
    "    if not split:\n",
    "        chars = x.split()\n",
    "        trim_chars = [char.strip().lower() for char in chars]\n",
    "        trim_chars = ' '.join(trim_chars)\n",
    "    else:\n",
    "        chars = str(x).split()\n",
    "        trim_chars = [char.strip().lower() for char in chars]\n",
    "    return trim_chars\n",
    "\n",
    "\n",
    "def string_maker(x,remove_special_chars=False,exceptions=False):\n",
    "    '''\n",
    "    Convert input into string. If special_chars is true then remove all the special characters from\n",
    "    string. If exceptions list is provided ex. \"exceptions: ['.',':'] then the special characters will be \n",
    "    exempted from removal. \n",
    "    '''\n",
    "    x = str(x)\n",
    "    special_characters = ['\\'','.',',',':',';','\"','<','>','*','@','%','!','?','’','”','(',')','--','“']\n",
    "    if exceptions:\n",
    "        for item in special_characters:\n",
    "            if item in exceptions:\n",
    "                special_characters.remove(item)\n",
    "\n",
    "    if remove_special_chars:\n",
    "        for i in special_characters:\n",
    "            x = x.replace(i,'')\n",
    "            \n",
    "    x = trimmer(x,split=True)\n",
    "    return x\n",
    "\n",
    "\n",
    "\n"
   ]
  },
  {
   "cell_type": "markdown",
   "metadata": {},
   "source": [
    "### import Library and import data"
   ]
  },
  {
   "cell_type": "code",
   "execution_count": 3,
   "metadata": {},
   "outputs": [],
   "source": [
    "import pandas as pd\n",
    "df = pd.read_csv('story.txt',sep='\\n', header = None)\n",
    "words = pd.read_csv('stopwords.txt',sep='\\n',header=None)"
   ]
  },
  {
   "cell_type": "markdown",
   "metadata": {},
   "source": [
    "### Add words from exception file into __palabras__ list"
   ]
  },
  {
   "cell_type": "code",
   "execution_count": 4,
   "metadata": {},
   "outputs": [],
   "source": [
    "palabras = [words[i:i+1].iloc[0][0] for i in range(0,len(words))]\n"
   ]
  },
  {
   "cell_type": "markdown",
   "metadata": {},
   "source": [
    "### Add words from reading file into a list"
   ]
  },
  {
   "cell_type": "code",
   "execution_count": 5,
   "metadata": {},
   "outputs": [],
   "source": [
    "list = [df[i:i+1].iloc[0][0] for i in range(0,len(df))]"
   ]
  },
  {
   "cell_type": "markdown",
   "metadata": {},
   "source": [
    "### Split words and add all words not found in the palabras list into a dictionary"
   ]
  },
  {
   "cell_type": "code",
   "execution_count": 6,
   "metadata": {},
   "outputs": [],
   "source": [
    "dict = {}\n",
    "\n",
    "for i in list:\n",
    "    ## split words \n",
    "    items = string_maker(i,True,False)\n",
    "    \n",
    "    for item in items:\n",
    "    ## Remove words from palabras list\n",
    "        if item not in palabras:            \n",
    "            if item in dict:\n",
    "                dict[item] += 1\n",
    "            else:\n",
    "                dict[item] = 1\n",
    "            "
   ]
  },
  {
   "cell_type": "markdown",
   "metadata": {},
   "source": [
    "### Print the top 10 most frequent words"
   ]
  },
  {
   "cell_type": "code",
   "execution_count": 7,
   "metadata": {},
   "outputs": [
    {
     "name": "stdout",
     "output_type": "stream",
     "text": [
      "said: 660\n",
      "mr: 620\n",
      "one: 438\n",
      "lorry: 336\n",
      "will: 295\n",
      "upon: 291\n",
      "man: 279\n",
      "defarge: 279\n",
      "little: 265\n",
      "time: 260\n"
     ]
    }
   ],
   "source": [
    "count = 0\n",
    "# sort dictionary by value \n",
    "for key, value in sorted(dict.items(),reverse = True, key=lambda item: item[1]):\n",
    "    print('{}: {}'.format(key, value))\n",
    "    count  += 1\n",
    "    \n",
    "    if count == 10:\n",
    "        break\n"
   ]
  },
  {
   "cell_type": "code",
   "execution_count": null,
   "metadata": {},
   "outputs": [],
   "source": []
  }
 ],
 "metadata": {
  "kernelspec": {
   "display_name": "Python [default]",
   "language": "python",
   "name": "python3"
  },
  "language_info": {
   "codemirror_mode": {
    "name": "ipython",
    "version": 3
   },
   "file_extension": ".py",
   "mimetype": "text/x-python",
   "name": "python",
   "nbconvert_exporter": "python",
   "pygments_lexer": "ipython3",
   "version": "3.7.0"
  }
 },
 "nbformat": 4,
 "nbformat_minor": 2
}
